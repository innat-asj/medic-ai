{
 "cells": [
  {
   "cell_type": "code",
   "execution_count": null,
   "metadata": {},
   "outputs": [],
   "source": [
    "!git clone https://github.com/innat/eye-net\n",
    "%cd eye-net\n",
    "%pip install -e . "
   ]
  },
  {
   "cell_type": "code",
   "execution_count": null,
   "metadata": {},
   "outputs": [],
   "source": [
    "from eyenet import get_configured\n",
    "from eyenet import get_dataloader\n",
    "from eyenet import DuelAttentionNet"
   ]
  },
  {
   "cell_type": "code",
   "execution_count": null,
   "metadata": {},
   "outputs": [],
   "source": [
    "cfg = get_configured('eyenet/cfg/default.yml')\n",
    "db = get_dataloader(cfg)\n",
    "model = DuelAttentionNet(cfg)\n",
    "hist = model.fit(db)\n",
    "\n",
    "hist.history\n",
    "{\n",
    "    'loss': [0.4282873570919037], \n",
    "    'primary_loss': [-0.018353674560785294], \n",
    "    'auxilary_loss': [1.4888033866882324], \n",
    "    'primary_accuracy': [0.375], \n",
    "    'primary_primary_metrics': [-0.17293238639831543], \n",
    "    'auxilary_auxilary_metrics': [0.625]\n",
    "}"
   ]
  }
 ],
 "metadata": {
  "language_info": {
   "name": "python"
  },
  "orig_nbformat": 4
 },
 "nbformat": 4,
 "nbformat_minor": 2
}
